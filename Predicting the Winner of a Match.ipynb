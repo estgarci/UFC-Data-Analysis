{
 "cells": [
  {
   "cell_type": "code",
   "execution_count": 177,
   "metadata": {},
   "outputs": [],
   "source": [
    "#import data\n",
    "import json\n",
    "import pandas as pd\n",
    "from pathlib import Path\n",
    "import os\n",
    "\n",
    "#Loading fighters-statistics on to a pd.DataFrame\n",
    "with open(os.path.abspath(r'data\\extraction\\fighters_11-18-20.json')) as fighter_stats_file:\n",
    "    fighterFrame = pd.DataFrame(json.loads(line) for line in fighter_stats_file)\n",
    "    \n",
    "    #DATA PRE PROCESSING:\n",
    "    #Setting index\n",
    "    fighterFrame.set_index('name', inplace=True)\n",
    "    \n",
    "#Loading match-statistics on to a pd.DataFrame\n",
    "with open(os.path.abspath(r'data\\extraction\\fights_12_03_20.json')) as matches_stats_file:\n",
    "    matchesFrame = pd.DataFrame(json.loads(line) for line in matches_stats_file)\n",
    "    \n",
    "    #DATA PRE PROCESSING:\n",
    "    #In order to have a multilevel index we must convert the auto-generated index from a list to a tuple\n",
    "    index_names = pd.DataFrame(matchesFrame['contenders'].array)\n",
    "    multiIndex = pd.MultiIndex.from_frame(index_names, names=['fighter a','fighter b'])\n",
    "    matchesFrame.set_index(multiIndex, inplace=True)\n",
    "    matchesFrame.drop(columns=['contenders'], inplace=True)\n",
    "    #We must modify the fight_stats column from a dictionary into a dataFrame. We also need a better column title\n",
    "    matchesFrame['match stats'] =  matchesFrame['fight_stats'].apply(lambda t: pd.DataFrame(t).set_index('name'))\n",
    "    matchesFrame.drop('fight_stats', axis=1, inplace=True)"
   ]
  },
  {
   "cell_type": "code",
   "execution_count": 202,
   "metadata": {},
   "outputs": [
    {
     "name": "stdout",
     "output_type": "stream",
     "text": [
      "              st  td sub pss\n",
      "name                        \n",
      "Henry Cejudo   1  53   1   0\n",
      "Dominick Cruz  0  33   0   0\n"
     ]
    },
    {
     "name": "stderr",
     "output_type": "stream",
     "text": [
      "C:\\Users\\01est\\Anaconda3\\lib\\site-packages\\ipykernel_launcher.py:4: PerformanceWarning: indexing past lexsort depth may impact performance.\n",
      "  after removing the cwd from sys.path.\n"
     ]
    },
    {
     "data": {
      "text/plain": [
       "st      0\n",
       "td     33\n",
       "sub     0\n",
       "pss     0\n",
       "Name: Dominick Cruz, dtype: object"
      ]
     },
     "execution_count": 202,
     "metadata": {},
     "output_type": "execute_result"
    }
   ],
   "source": [
    "#[MY NOTES] SELECTING A SPECIFIC MATCH:\n",
    "\n",
    "#This will return a list of matches between Henry and Dominick, in this case we only have 1 match so len(data) = 1\n",
    "henry_vs_dominick = matchesFrame.loc[('Henry Cejudo','Dominick Cruz')]['match stats']\n",
    "print(henry_vs_dominick[0])\n",
    "\n",
    "#Lets say we want to dive in deeper and explore how Dominick did during that fight:\n",
    "henry_vs_dominick[0].loc['Dominick Cruz']\n"
   ]
  },
  {
   "cell_type": "code",
   "execution_count": null,
   "metadata": {},
   "outputs": [],
   "source": []
  },
  {
   "cell_type": "code",
   "execution_count": null,
   "metadata": {},
   "outputs": [],
   "source": []
  },
  {
   "cell_type": "code",
   "execution_count": null,
   "metadata": {},
   "outputs": [],
   "source": []
  },
  {
   "cell_type": "code",
   "execution_count": null,
   "metadata": {},
   "outputs": [],
   "source": []
  },
  {
   "cell_type": "code",
   "execution_count": null,
   "metadata": {},
   "outputs": [],
   "source": []
  }
 ],
 "metadata": {
  "kernelspec": {
   "display_name": "Python 3",
   "language": "python",
   "name": "python3"
  },
  "language_info": {
   "codemirror_mode": {
    "name": "ipython",
    "version": 3
   },
   "file_extension": ".py",
   "mimetype": "text/x-python",
   "name": "python",
   "nbconvert_exporter": "python",
   "pygments_lexer": "ipython3",
   "version": "3.7.6"
  }
 },
 "nbformat": 4,
 "nbformat_minor": 4
}
